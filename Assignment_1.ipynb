{
 "cells": [
  {
   "cell_type": "markdown",
   "metadata": {},
   "source": [
    "1. In the below elements which of them are values or an expression? eg:- values can be integer or string and expressions will be mathematical operators.\n",
    "* \n",
    "'hello'\n",
    "-87.8\n",
    "- \n",
    "/ \n",
    "+\t\n",
    "6 \n",
    "\n",
    "Values     : 'hello', -87.8, 6\n",
    "Expression : * , -, /, +"
   ]
  },
  {
   "cell_type": "markdown",
   "metadata": {},
   "source": [
    "2. What is the difference between string and variable?\n",
    "variable as an identifier to store a value in a memory location and to manipulate it if needed.\n",
    "\n",
    "a = 456\n",
    "b = 'anup'\n",
    "c = 5.78\n",
    "\n",
    "In the above example, we can say that a is a variable that stores the value 456.A variable is created when we first assign a value to it in program. Thus, in the above program, the variable a is created when we assign the value 456 to it, meaning that a memory address is allocated to store the value 456. Later, when we re-assign using a = 36, the value in the corresponding memory address will be changed to 36. Thus, we can say that variable is an identifier that play around with a value that is created and stored in a memory location. A variable can be of several types like integer, string, float, etc. based on the value we assign to it.\n",
    "\n",
    "\n",
    "Anything  assign to a variable using quotes (single or double) will be considered as a string. Thus, a string is one of several types of a variable.Example:\n",
    "\n",
    "a = \"5\" \n",
    "b = \"6\" \n",
    "c = \"anup\"\n",
    "d = \"5.87\"\n",
    "\n"
   ]
  },
  {
   "cell_type": "markdown",
   "metadata": {},
   "source": [
    "3. Describe three different data types.\n",
    "\n",
    "Data types are the classification or categorization of data items. It represents the kind of value that tells\n",
    "what operations can be performed on a particular data. Since everything is an object in Python programming,\n",
    "data types are actually classes and variables are instance (object) of these classes.\n",
    "\n",
    "Integers – This value is represented by int class. It contains positive or negative whole numbers \n",
    "(without fraction or decimal). In Python there is no limit to how long an integer value can be.\n",
    "\n",
    "Float – This value is represented by float class. It is a real number with floating point representation. \n",
    "It is specified by a decimal point. \n",
    " \n",
    "Complex Numbers – Complex number is represented by complex class. It is specified as\n",
    "(real part) + (imaginary part)j. For example – 2+3j "
   ]
  },
  {
   "cell_type": "markdown",
   "metadata": {},
   "source": [
    "4. What is an expression made up of? What do all expressions do?\n",
    "An expression is any sequence of literals (strings, numbers, lists, sets, tuples), objects, function calls, \n",
    "identifiers combined with a variety of operators which results in a value - regardless of whether of the \n",
    "resulting value is an object, or a number, or even a None. So examples of expressions are :\n",
    "\n",
    "‘anup jha’ - this is a string literal\n",
    "65.87 - this is a floating point literal\n",
    "{10,11,12,13} - a set literal\n",
    "my_func(a,b,c) - a function call (even if the function returns None)\n",
    "2 + the_number * math.factorial(7) - a combination of literals, operators, identifiers and function calls\n",
    "Expressions aren’t things like for loops, while loops, with statements, try/except, if/else - they are\n",
    "statements.\n",
    "\n",
    "Expressions are things that are intended to result in a value.\n",
    "\n",
    "\n",
    "\n",
    "\n"
   ]
  },
  {
   "cell_type": "markdown",
   "metadata": {},
   "source": [
    "5. This assignment statements, like spam = 10. What is the difference between an expression and a statement?\n",
    "A statement is an instruction that the Python interpreter can execute.Some statements are assignment statement\n",
    "while statements, for statements, if statements, and import statements.\n",
    "\n",
    "An expression is a combination of values, variables, operators, and calls to functions. Expressions need to be\n",
    "evaluated. If we ask Python to print an expression, the interpreter evaluates the expression and displays the \n",
    "result.\n",
    "\n",
    "we can say that anything that evaluates to something is a Python expression, while on the\n",
    "other hand, anything that does something is a Python statement.\n",
    "\n"
   ]
  },
  {
   "cell_type": "markdown",
   "metadata": {},
   "source": [
    "6. After running the following code, what does the variable bacon contain?\n",
    "bacon = 22\n",
    "bacon + 1\n",
    "\n",
    "Ans : 22"
   ]
  },
  {
   "cell_type": "code",
   "execution_count": 1,
   "metadata": {},
   "outputs": [
    {
     "data": {
      "text/plain": [
       "23"
      ]
     },
     "execution_count": 1,
     "metadata": {},
     "output_type": "execute_result"
    }
   ],
   "source": [
    "bacon = 22\n",
    "bacon + 1"
   ]
  },
  {
   "cell_type": "code",
   "execution_count": 2,
   "metadata": {},
   "outputs": [
    {
     "data": {
      "text/plain": [
       "22"
      ]
     },
     "execution_count": 2,
     "metadata": {},
     "output_type": "execute_result"
    }
   ],
   "source": [
    "bacon"
   ]
  },
  {
   "cell_type": "markdown",
   "metadata": {},
   "source": [
    "7. What should the values of the following two terms be?\n",
    "'spam' + 'spamspam'\n",
    "'spam' * 3"
   ]
  },
  {
   "cell_type": "code",
   "execution_count": 3,
   "metadata": {},
   "outputs": [
    {
     "data": {
      "text/plain": [
       "'spamspamspam'"
      ]
     },
     "execution_count": 3,
     "metadata": {},
     "output_type": "execute_result"
    }
   ],
   "source": [
    "'spam' + 'spamspam'"
   ]
  },
  {
   "cell_type": "code",
   "execution_count": 4,
   "metadata": {},
   "outputs": [
    {
     "data": {
      "text/plain": [
       "'spamspamspam'"
      ]
     },
     "execution_count": 4,
     "metadata": {},
     "output_type": "execute_result"
    }
   ],
   "source": [
    "'spam' * 3"
   ]
  },
  {
   "cell_type": "markdown",
   "metadata": {},
   "source": [
    "8. Why is eggs a valid variable name while 100 is invalid?\n",
    "Ans :In Python we cannot start the variable name with Interger or floating value but we can start with character\n",
    "    thatswhy eggs is a valid variable name while 100 is invalid variable name."
   ]
  },
  {
   "cell_type": "markdown",
   "metadata": {},
   "source": [
    "9. What three functions can be used to get the integer, floating-point number, or string version of a value?\n",
    "Ans :The int() , float() , and str( ) functions will evaluate to the integer, floating-point number, \n",
    "     and string versions of the value passed to them."
   ]
  },
  {
   "cell_type": "markdown",
   "metadata": {},
   "source": [
    "10. Why does this expression cause an error? How can you fix it?\n",
    "'I have eaten ' + 99 + ' burritos.'\n",
    "\n",
    "Ans :We cannot concatenate string datatype with integer datatype.We need to convert the int datatype to\n",
    "     string datatype to fix the issue by adding either single quote or double quote in 99.\n",
    "        'I have eaten ' + '99' + ' burritos.'\n"
   ]
  }
 ],
 "metadata": {
  "kernelspec": {
   "display_name": "Python 3",
   "language": "python",
   "name": "python3"
  },
  "language_info": {
   "codemirror_mode": {
    "name": "ipython",
    "version": 3
   },
   "file_extension": ".py",
   "mimetype": "text/x-python",
   "name": "python",
   "nbconvert_exporter": "python",
   "pygments_lexer": "ipython3",
   "version": "3.8.5"
  }
 },
 "nbformat": 4,
 "nbformat_minor": 4
}
